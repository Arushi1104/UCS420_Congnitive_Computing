{
 "cells": [
  {
   "cell_type": "code",
   "execution_count": 1,
   "id": "65267717-d30c-4db8-8c84-c1b31200437f",
   "metadata": {},
   "outputs": [
    {
     "name": "stdout",
     "output_type": "stream",
     "text": [
      "Requirement already satisfied: nltk in d:\\python 3.11\\lib\\site-packages (3.9.1)\n",
      "Requirement already satisfied: click in d:\\python 3.11\\lib\\site-packages (from nltk) (8.1.8)\n",
      "Requirement already satisfied: joblib in d:\\python 3.11\\lib\\site-packages (from nltk) (1.4.2)\n",
      "Requirement already satisfied: regex>=2021.8.3 in d:\\python 3.11\\lib\\site-packages (from nltk) (2024.11.6)\n",
      "Requirement already satisfied: tqdm in d:\\python 3.11\\lib\\site-packages (from nltk) (4.67.1)\n",
      "Requirement already satisfied: colorama in d:\\python 3.11\\lib\\site-packages (from click->nltk) (0.4.6)\n"
     ]
    }
   ],
   "source": [
    "#Install NLTK\n",
    "!pip install nltk"
   ]
  },
  {
   "cell_type": "code",
   "execution_count": 2,
   "id": "2b173e0d-7f4f-4f0a-84f4-3ea25300fb38",
   "metadata": {},
   "outputs": [
    {
     "name": "stderr",
     "output_type": "stream",
     "text": [
      "[nltk_data] Downloading package punkt to\n",
      "[nltk_data]     C:\\Users\\Arushi\\AppData\\Roaming\\nltk_data...\n",
      "[nltk_data]   Package punkt is already up-to-date!\n",
      "[nltk_data] Downloading package stopwords to\n",
      "[nltk_data]     C:\\Users\\Arushi\\AppData\\Roaming\\nltk_data...\n",
      "[nltk_data]   Package stopwords is already up-to-date!\n",
      "[nltk_data] Downloading package wordnet to\n",
      "[nltk_data]     C:\\Users\\Arushi\\AppData\\Roaming\\nltk_data...\n",
      "[nltk_data]   Package wordnet is already up-to-date!\n",
      "[nltk_data] Downloading package punkt_tab to\n",
      "[nltk_data]     C:\\Users\\Arushi\\AppData\\Roaming\\nltk_data...\n",
      "[nltk_data]   Package punkt_tab is already up-to-date!\n"
     ]
    },
    {
     "data": {
      "text/plain": [
       "True"
      ]
     },
     "execution_count": 2,
     "metadata": {},
     "output_type": "execute_result"
    }
   ],
   "source": [
    "# Imports and Downloads\n",
    "import nltk\n",
    "import re\n",
    "import string\n",
    "from nltk.tokenize import word_tokenize, sent_tokenize\n",
    "from nltk.corpus import stopwords\n",
    "from nltk.stem import PorterStemmer, LancasterStemmer, WordNetLemmatizer\n",
    "from nltk import FreqDist\n",
    "\n",
    "# Download required resources\n",
    "nltk.download('punkt')\n",
    "nltk.download('stopwords')\n",
    "nltk.download('wordnet')\n",
    "nltk.download('punkt_tab') # Download the punkt_tab resource"
   ]
  },
  {
   "cell_type": "code",
   "execution_count": 3,
   "id": "e5c3a6f9-e9e3-443d-8ac7-fb7bd63c3a1e",
   "metadata": {},
   "outputs": [
    {
     "name": "stdout",
     "output_type": "stream",
     "text": [
      "i find learning about science incredibly exciting because it constantly uncovers new mysteries and helps us understand the world better.\n",
      "from space exploration to breakthroughs in medicine, it's fascinating to see how discoveries can change lives and expand our knowledge.\n",
      "i'm particularly drawn to how science tackles big challenges, like finding renewable energy sources or curing diseases.\n",
      "seeing progress happen so quickly keeps me motivated and eager to learn more.\n",
      "\n",
      "\n",
      "removed punctuation:\n",
      " i find learning about science incredibly exciting because it constantly uncovers new mysteries and helps us understand the world better\n",
      "from space exploration to breakthroughs in medicine its fascinating to see how discoveries can change lives and expand our knowledge\n",
      "im particularly drawn to how science tackles big challenges like finding renewable energy sources or curing diseases\n",
      "seeing progress happen so quickly keeps me motivated and eager to learn more\n",
      "\n"
     ]
    }
   ],
   "source": [
    "import string\n",
    "text=\"I find learning about science incredibly exciting because it constantly uncovers new mysteries and helps us understand the world better.\\nFrom space exploration to breakthroughs in medicine, it's fascinating to see how discoveries can change lives and expand our knowledge.\\nI'm particularly drawn to how science tackles big challenges, like finding renewable energy sources or curing diseases.\\nSeeing progress happen so quickly keeps me motivated and eager to learn more.\\n\"\n",
    "low_text=text.lower()\n",
    "without_punc=low_text.translate(str.maketrans('','',string.punctuation))\n",
    "print(low_text)\n",
    "print(\"\\nremoved punctuation:\\n\",without_punc)"
   ]
  },
  {
   "cell_type": "code",
   "execution_count": 4,
   "id": "f6f5762b-db11-4a5a-bcec-8806f67e443f",
   "metadata": {},
   "outputs": [
    {
     "name": "stdout",
     "output_type": "stream",
     "text": [
      "word tokens: ['i', 'find', 'learning', 'about', 'science', 'incredibly', 'exciting', 'because', 'it', 'constantly', 'uncovers', 'new', 'mysteries', 'and', 'helps', 'us', 'understand', 'the', 'world', 'better', 'from', 'space', 'exploration', 'to', 'breakthroughs', 'in', 'medicine', 'its', 'fascinating', 'to', 'see', 'how', 'discoveries', 'can', 'change', 'lives', 'and', 'expand', 'our', 'knowledge', 'im', 'particularly', 'drawn', 'to', 'how', 'science', 'tackles', 'big', 'challenges', 'like', 'finding', 'renewable', 'energy', 'sources', 'or', 'curing', 'diseases', 'seeing', 'progress', 'happen', 'so', 'quickly', 'keeps', 'me', 'motivated', 'and', 'eager', 'to', 'learn', 'more']\n",
      "\n",
      "sentence tokens: ['I find learning about science incredibly exciting because it constantly uncovers new mysteries and helps us understand the world better.', \"From space exploration to breakthroughs in medicine, it's fascinating to see how discoveries can change lives and expand our knowledge.\", \"I'm particularly drawn to how science tackles big challenges, like finding renewable energy sources or curing diseases.\", 'Seeing progress happen so quickly keeps me motivated and eager to learn more.']\n"
     ]
    }
   ],
   "source": [
    "token_w=word_tokenize(without_punc)\n",
    "token_s=sent_tokenize(text)\n",
    "print(\"word tokens:\",token_w)\n",
    "print(\"\\nsentence tokens:\",token_s)"
   ]
  },
  {
   "cell_type": "code",
   "execution_count": 5,
   "id": "08add26a-a1c1-463a-8d62-3c4f9aaad7d1",
   "metadata": {},
   "outputs": [
    {
     "name": "stdout",
     "output_type": "stream",
     "text": [
      "filtered tokens: ['find', 'learning', 'science', 'incredibly', 'exciting', 'constantly', 'uncovers', 'new', 'mysteries', 'helps', 'us', 'understand', 'world', 'better', 'space', 'exploration', 'breakthroughs', 'medicine', 'fascinating', 'see', 'discoveries', 'change', 'lives', 'expand', 'knowledge', 'im', 'particularly', 'drawn', 'science', 'tackles', 'big', 'challenges', 'like', 'finding', 'renewable', 'energy', 'sources', 'curing', 'diseases', 'seeing', 'progress', 'happen', 'quickly', 'keeps', 'motivated', 'eager', 'learn']\n"
     ]
    }
   ],
   "source": [
    "stop_words=set(stopwords.words('english'))\n",
    "filtered_tokens=[word for word in token_w if word.lower() not in stop_words]\n",
    "print(\"filtered tokens:\",filtered_tokens)"
   ]
  },
  {
   "cell_type": "code",
   "execution_count": 6,
   "id": "172ea6cb-a5e1-410e-99b5-1fb7217543a4",
   "metadata": {},
   "outputs": [
    {
     "name": "stdout",
     "output_type": "stream",
     "text": [
      "frequency distribution: <FreqDist with 46 samples and 47 outcomes>\n"
     ]
    },
    {
     "data": {
      "text/plain": [
       "<Axes: title={'center': 'Frequency Distribution'}, xlabel='Samples', ylabel='Counts'>"
      ]
     },
     "execution_count": 6,
     "metadata": {},
     "output_type": "execute_result"
    },
    {
     "data": {
      "image/png": "[encoded data removed]",
      "text/plain": [
       "<Figure size 640x480 with 1 Axes>"
      ]
     },
     "metadata": {},
     "output_type": "display_data"
    }
   ],
   "source": [
    "fd= FreqDist(filtered_tokens)\n",
    "print(\"frequency distribution:\",fd)\n",
    "fd.plot(10,title='Frequency Distribution')"
   ]
  },
  {
   "cell_type": "code",
   "execution_count": 7,
   "id": "40c2967d-60d2-4cb2-83d0-04c55514d8af",
   "metadata": {},
   "outputs": [
    {
     "name": "stdout",
     "output_type": "stream",
     "text": [
      "find-> Stemmed: find, Lemmatized: find\n",
      "learning-> Stemmed: learn, Lemmatized: learning\n",
      "science-> Stemmed: scienc, Lemmatized: science\n",
      "incredibly-> Stemmed: incred, Lemmatized: incredibly\n",
      "exciting-> Stemmed: excit, Lemmatized: exciting\n",
      "constantly-> Stemmed: constantli, Lemmatized: constantly\n",
      "uncovers-> Stemmed: uncov, Lemmatized: uncovers\n",
      "new-> Stemmed: new, Lemmatized: new\n",
      "mysteries-> Stemmed: mysteri, Lemmatized: mystery\n",
      "helps-> Stemmed: help, Lemmatized: help\n",
      "us-> Stemmed: us, Lemmatized: u\n",
      "understand-> Stemmed: understand, Lemmatized: understand\n",
      "world-> Stemmed: world, Lemmatized: world\n",
      "better-> Stemmed: better, Lemmatized: better\n",
      "space-> Stemmed: space, Lemmatized: space\n",
      "exploration-> Stemmed: explor, Lemmatized: exploration\n",
      "breakthroughs-> Stemmed: breakthrough, Lemmatized: breakthrough\n",
      "medicine-> Stemmed: medicin, Lemmatized: medicine\n",
      "fascinating-> Stemmed: fascin, Lemmatized: fascinating\n",
      "see-> Stemmed: see, Lemmatized: see\n",
      "discoveries-> Stemmed: discoveri, Lemmatized: discovery\n",
      "change-> Stemmed: chang, Lemmatized: change\n",
      "lives-> Stemmed: live, Lemmatized: life\n",
      "expand-> Stemmed: expand, Lemmatized: expand\n",
      "knowledge-> Stemmed: knowledg, Lemmatized: knowledge\n",
      "im-> Stemmed: im, Lemmatized: im\n",
      "particularly-> Stemmed: particularli, Lemmatized: particularly\n",
      "drawn-> Stemmed: drawn, Lemmatized: drawn\n",
      "science-> Stemmed: scienc, Lemmatized: science\n",
      "tackles-> Stemmed: tackl, Lemmatized: tackle\n",
      "big-> Stemmed: big, Lemmatized: big\n",
      "challenges-> Stemmed: challeng, Lemmatized: challenge\n",
      "like-> Stemmed: like, Lemmatized: like\n",
      "finding-> Stemmed: find, Lemmatized: finding\n",
      "renewable-> Stemmed: renew, Lemmatized: renewable\n",
      "energy-> Stemmed: energi, Lemmatized: energy\n",
      "sources-> Stemmed: sourc, Lemmatized: source\n",
      "curing-> Stemmed: cure, Lemmatized: curing\n",
      "diseases-> Stemmed: diseas, Lemmatized: disease\n",
      "seeing-> Stemmed: see, Lemmatized: seeing\n",
      "progress-> Stemmed: progress, Lemmatized: progress\n",
      "happen-> Stemmed: happen, Lemmatized: happen\n",
      "quickly-> Stemmed: quickli, Lemmatized: quickly\n",
      "keeps-> Stemmed: keep, Lemmatized: keep\n",
      "motivated-> Stemmed: motiv, Lemmatized: motivated\n",
      "eager-> Stemmed: eager, Lemmatized: eager\n",
      "learn-> Stemmed: learn, Lemmatized: learn\n"
     ]
    }
   ],
   "source": [
    "for word in filtered_tokens:\n",
    "  print(f'{word}-> Stemmed: {PorterStemmer().stem(word)}, Lemmatized: {WordNetLemmatizer().lemmatize(word)}')"
   ]
  },
  {
   "cell_type": "code",
   "execution_count": 8,
   "id": "73d5f182-8630-4997-bbe6-314563dc1a2d",
   "metadata": {},
   "outputs": [
    {
     "name": "stdout",
     "output_type": "stream",
     "text": [
      "words with nore than 5 letters:\n",
      " ['about', 'helps', 'world', 'space', 'lives', 'drawn', 'keeps', 'eager', 'learn']\n",
      "numbers in text:\n",
      " []\n",
      "capitalized words:\n",
      " ['From', 'Seeing']\n"
     ]
    }
   ],
   "source": [
    "w5=re.findall(r'\\b\\w{5}\\b',text)\n",
    "print(\"words with nore than 5 letters:\\n\", w5)\n",
    "\n",
    "num=re.findall(r'\\b\\d+\\b',text)\n",
    "print(\"numbers in text:\\n\",num)\n",
    "\n",
    "capital=re.findall(r'\\b[A-Z][a-zA-Z]+\\b',text)\n",
    "print(\"capitalized words:\\n\",capital)"
   ]
  },
  {
   "cell_type": "code",
   "execution_count": 9,
   "id": "17df762b-4c9f-47d8-9644-5d50a9ad0ddb",
   "metadata": {},
   "outputs": [
    {
     "name": "stdout",
     "output_type": "stream",
     "text": [
      "words with only alphabets:\n",
      " ['find', 'learning', 'about', 'science', 'incredibly', 'exciting', 'because', 'it', 'constantly', 'uncovers', 'new', 'mysteries', 'and', 'helps', 'us', 'understand', 'the', 'world', 'better', 'From', 'space', 'exploration', 'to', 'breakthroughs', 'in', 'medicine', 'it', 'fascinating', 'to', 'see', 'how', 'discoveries', 'can', 'change', 'lives', 'and', 'expand', 'our', 'knowledge', 'particularly', 'drawn', 'to', 'how', 'science', 'tackles', 'big', 'challenges', 'like', 'finding', 'renewable', 'energy', 'sources', 'or', 'curing', 'diseases', 'Seeing', 'progress', 'happen', 'so', 'quickly', 'keeps', 'me', 'motivated', 'and', 'eager', 'to', 'learn', 'more']\n",
      "words starting with a vowel:\n",
      " ['about', 'incredibly', 'exciting', 'it', 'uncovers', 'and', 'us', 'understand', 'exploration', 'in', 'it', 'and', 'expand', 'our', 'energy', 'or', 'and', 'eager']\n"
     ]
    }
   ],
   "source": [
    "w_alphabet=re.findall(r'\\b[a-zA-Z]\\w+\\b',text)\n",
    "print(\"words with only alphabets:\\n\",w_alphabet)\n",
    "\n",
    "w_vowel=re.findall(r'\\b[aeiouAEIOU]\\w+\\b',text)\n",
    "print(\"words starting with a vowel:\\n\",w_vowel)"
   ]
  },
  {
   "cell_type": "code",
   "execution_count": 10,
   "id": "ea00ed97-19db-4172-9b57-42e44fac4465",
   "metadata": {},
   "outputs": [
    {
     "name": "stdout",
     "output_type": "stream",
     "text": [
      "['I', 'find', 'learning', 'about', 'science', 'incredibly', 'exciting', 'because', 'it', 'constantly', 'uncovers', 'new', 'mysteries', 'and', 'helps', 'us', 'understand', 'the', 'world', 'better', 'From', 'space', 'exploration', 'to', 'breakthroughs', 'in', 'medicine', \"it's\", 'fascinating', 'to', 'see', 'how', 'discoveries', 'can', 'change', 'lives', 'and', 'expand', 'our', 'knowledge', \"I'm\", 'particularly', 'drawn', 'to', 'how', 'science', 'tackles', 'big', 'challenges', 'like', 'finding', 'renewable', 'energy', 'sources', 'or', 'curing', 'diseases', 'Seeing', 'progress', 'happen', 'so', 'quickly', 'keeps', 'me', 'motivated', 'and', 'eager', 'to', 'learn', 'more']\n",
      "['Cutting-edge', 'robotics', 'requires', 'precision', 'engineering', '299', '792', '458', 'is', 'the', 'speed', 'of', 'light', 'in', 'm', 's']\n"
     ]
    }
   ],
   "source": [
    "def custom_tokenizer(text):\n",
    "  pattern = r\"\\b\\w+(?:-\\w+)+\\b|\\b\\w+'[a-z]+\\b|\\b\\d+\\.\\d+\\b|\\b\\d+\\b|\\b[a-zA-Z]+\\b\"\n",
    "  tokens=re.findall(pattern,text)\n",
    "  return tokens\n",
    "\n",
    "print(custom_tokenizer(text))\n",
    "print(custom_tokenizer(\"Cutting-edge robotics requires precision engineering. 299,792,458 is the speed of light in m/s.\"))"
   ]
  },
  {
   "cell_type": "code",
   "execution_count": 11,
   "id": "f815e976-3413-47af-9728-1a3d3433700c",
   "metadata": {},
   "outputs": [
    {
     "name": "stdout",
     "output_type": "stream",
     "text": [
      "You can reach out via email at , check our website at  dial , or call internationally at +44 7700 900123.\n"
     ]
    }
   ],
   "source": [
    "def replace_text(text):\n",
    "  text=re.sub(r'\\b[\\w\\.-]+@[\\w\\.-]+\\.\\w+\\b','',text)\n",
    "  text=re.sub(r'https?://\\S+|www\\.\\S+','',text)\n",
    "  text = re.sub(r'(?:\\+91[\\s\\-]?)?\\d{10}|\\d{3}-\\d{3}-\\d{4}', '', text)\n",
    "  return text\n",
    "\n",
    "print(replace_text(\"You can reach out via email at bob@techworld.org, check our website at https://techworld.org, dial 555-123-4567, or call internationally at +44 7700 900123.\"))\n",
    "\n",
    "     "
   ]
  }
 ],
 "metadata": {
  "kernelspec": {
   "display_name": "Python (myenv)",
   "language": "python",
   "name": "myenv"
  },
  "language_info": {
   "codemirror_mode": {
    "name": "ipython",
    "version": 3
   },
   "file_extension": ".py",
   "mimetype": "text/x-python",
   "name": "python",
   "nbconvert_exporter": "python",
   "pygments_lexer": "ipython3",
   "version": "3.11.9"
  }
 },
 "nbformat": 4,
 "nbformat_minor": 5
}
